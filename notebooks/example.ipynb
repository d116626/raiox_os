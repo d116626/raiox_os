{
 "cells": [
  {
   "cell_type": "code",
   "execution_count": 1,
   "metadata": {},
   "outputs": [],
   "source": [
    "%reload_ext autoreload\n",
    "%autoreload 2\n",
    "\n",
    "import warnings\n",
    "warnings.filterwarnings('ignore')\n",
    "\n",
    "import pandas as pd\n",
    "import numpy as np\n",
    "\n",
    "pd.options.display.max_columns = 999\n",
    "pd.options.display.max_rows = 1999\n",
    "pd.options.display.max_colwidth = 200\n",
    "\n",
    "import yaml\n",
    "\n",
    "from paths import *\n",
    "from scripts import manipulation\n",
    "from scripts import io\n",
    "\n",
    "import plotly.graph_objs as go\n",
    "from plotly.offline import download_plotlyjs, init_notebook_mode, plot, iplot, offline\n",
    "from scripts import vis_layout\n",
    "\n",
    "from os import listdir\n",
    "import glob\n"
   ]
  },
  {
   "cell_type": "markdown",
   "metadata": {},
   "source": [
    "##  Portal da Transparência | Organizações Sociais de Saúde - OSS\n",
    "\n",
    " - [Portal da Transparência OSS](http://www.portaldatransparencia.saude.sp.gov.br/index.php)"
   ]
  },
  {
   "cell_type": "code",
   "execution_count": 190,
   "metadata": {},
   "outputs": [],
   "source": [
    "quali = pd.concat(map(pd.read_csv, glob.glob('../data/oss_qualificadas/years/*.csv')))\n",
    "quali_orgs = pd.concat(map(pd.read_csv, glob.glob('../data/oss_qualificadas/organizacoes/*.csv')))\n",
    "\n",
    "contrat = pd.concat(map(pd.read_csv, glob.glob('../data/oss_contratualizadas/years/*.csv')))\n",
    "contrat_org = pd.concat(map(pd.read_csv, glob.glob('../data/oss_contratualizadas/organizacoes/*.csv')))\n",
    "\n",
    "indicadores = pd.concat(map(pd.read_csv, glob.glob('../data/oss_indicadores/*.csv')))\n",
    "indicadores = indicadores[indicadores['Unidade']!='Unidade']\n",
    "\n",
    "convocacoes = pd.concat(map(pd.read_csv, glob.glob('../data/oss_convocacoes/*.csv')))\n",
    "\n",
    "municipios_quali = indicadores = pd.concat(map(pd.read_csv, glob.glob('../data/oss_cidades/*.csv')))"
   ]
  },
  {
   "cell_type": "markdown",
   "metadata": {},
   "source": [
    "## Portal Financeiro do Gestor\n",
    " - [Portal Financeiro do Gestor](http://www.portalfinanceirodogestor.saude.sp.gov.br/)"
   ]
  },
  {
   "cell_type": "code",
   "execution_count": 192,
   "metadata": {},
   "outputs": [],
   "source": [
    "convenios =  pd.concat(map(pd.read_csv, glob.glob('../data/portal_financeiro/convenio/*.csv')))\n",
    "\n",
    "fundo =  pd.concat(map(pd.read_csv, glob.glob('../data/portal_financeiro/fundo/*.csv')))\n",
    "\n",
    "oss =  pd.concat(map(pd.read_csv, glob.glob('../data/portal_financeiro/oss/ano/*.csv')))\n",
    "\n",
    "proprio =  pd.concat(map(pd.read_csv, glob.glob('../data/portal_financeiro/proprios/*.csv')))"
   ]
  },
  {
   "cell_type": "code",
   "execution_count": 193,
   "metadata": {},
   "outputs": [
    {
     "data": {
      "text/html": [
       "<div>\n",
       "<style scoped>\n",
       "    .dataframe tbody tr th:only-of-type {\n",
       "        vertical-align: middle;\n",
       "    }\n",
       "\n",
       "    .dataframe tbody tr th {\n",
       "        vertical-align: top;\n",
       "    }\n",
       "\n",
       "    .dataframe thead th {\n",
       "        text-align: right;\n",
       "    }\n",
       "</style>\n",
       "<table border=\"1\" class=\"dataframe\">\n",
       "  <thead>\n",
       "    <tr style=\"text-align: right;\">\n",
       "      <th></th>\n",
       "      <th>OSS</th>\n",
       "      <th>Gerenciadora atual</th>\n",
       "      <th>Contratado</th>\n",
       "      <th>Pago</th>\n",
       "      <th>ano</th>\n",
       "    </tr>\n",
       "  </thead>\n",
       "  <tbody>\n",
       "    <tr>\n",
       "      <th>0</th>\n",
       "      <td>Hospital Santo André</td>\n",
       "      <td>Fundação ABC</td>\n",
       "      <td>NaN</td>\n",
       "      <td>1071.0</td>\n",
       "      <td>2020</td>\n",
       "    </tr>\n",
       "    <tr>\n",
       "      <th>1</th>\n",
       "      <td>Hospital Guarulhos</td>\n",
       "      <td>SPDM</td>\n",
       "      <td>NaN</td>\n",
       "      <td>973.0</td>\n",
       "      <td>2020</td>\n",
       "    </tr>\n",
       "    <tr>\n",
       "      <th>2</th>\n",
       "      <td>Hospital Luzia de Pinho Melo</td>\n",
       "      <td>SPDM</td>\n",
       "      <td>NaN</td>\n",
       "      <td>948.0</td>\n",
       "      <td>2020</td>\n",
       "    </tr>\n",
       "    <tr>\n",
       "      <th>3</th>\n",
       "      <td>Hospital Presidente Prudente</td>\n",
       "      <td>Lar São Francisco</td>\n",
       "      <td>NaN</td>\n",
       "      <td>928.0</td>\n",
       "      <td>2020</td>\n",
       "    </tr>\n",
       "    <tr>\n",
       "      <th>4</th>\n",
       "      <td>Hospital Bauru</td>\n",
       "      <td>FAMESP</td>\n",
       "      <td>NaN</td>\n",
       "      <td>924.0</td>\n",
       "      <td>2020</td>\n",
       "    </tr>\n",
       "    <tr>\n",
       "      <th>5</th>\n",
       "      <td>Hospital Brigadeiro</td>\n",
       "      <td>SPDM</td>\n",
       "      <td>NaN</td>\n",
       "      <td>840.0</td>\n",
       "      <td>2020</td>\n",
       "    </tr>\n",
       "    <tr>\n",
       "      <th>6</th>\n",
       "      <td>Hospital Grajau</td>\n",
       "      <td>Sirío Libanês</td>\n",
       "      <td>NaN</td>\n",
       "      <td>790.0</td>\n",
       "      <td>2020</td>\n",
       "    </tr>\n",
       "    <tr>\n",
       "      <th>7</th>\n",
       "      <td>Hospital Pedreira</td>\n",
       "      <td>SPDM</td>\n",
       "      <td>NaN</td>\n",
       "      <td>778.0</td>\n",
       "      <td>2020</td>\n",
       "    </tr>\n",
       "    <tr>\n",
       "      <th>8</th>\n",
       "      <td>Hospital Pirajussara</td>\n",
       "      <td>SPDM</td>\n",
       "      <td>NaN</td>\n",
       "      <td>754.0</td>\n",
       "      <td>2020</td>\n",
       "    </tr>\n",
       "    <tr>\n",
       "      <th>9</th>\n",
       "      <td>Conjunto Hospitalar de Sorocaba</td>\n",
       "      <td>SECONCI - SEDE</td>\n",
       "      <td>NaN</td>\n",
       "      <td>730.0</td>\n",
       "      <td>2020</td>\n",
       "    </tr>\n",
       "  </tbody>\n",
       "</table>\n",
       "</div>"
      ],
      "text/plain": [
       "                               OSS Gerenciadora atual  Contratado    Pago  \\\n",
       "0             Hospital Santo André       Fundação ABC         NaN  1071.0   \n",
       "1               Hospital Guarulhos               SPDM         NaN   973.0   \n",
       "2     Hospital Luzia de Pinho Melo               SPDM         NaN   948.0   \n",
       "3     Hospital Presidente Prudente  Lar São Francisco         NaN   928.0   \n",
       "4                   Hospital Bauru             FAMESP         NaN   924.0   \n",
       "5              Hospital Brigadeiro               SPDM         NaN   840.0   \n",
       "6                  Hospital Grajau      Sirío Libanês         NaN   790.0   \n",
       "7                Hospital Pedreira               SPDM         NaN   778.0   \n",
       "8             Hospital Pirajussara               SPDM         NaN   754.0   \n",
       "9  Conjunto Hospitalar de Sorocaba     SECONCI - SEDE         NaN   730.0   \n",
       "\n",
       "    ano  \n",
       "0  2020  \n",
       "1  2020  \n",
       "2  2020  \n",
       "3  2020  \n",
       "4  2020  \n",
       "5  2020  \n",
       "6  2020  \n",
       "7  2020  \n",
       "8  2020  \n",
       "9  2020  "
      ]
     },
     "execution_count": 193,
     "metadata": {},
     "output_type": "execute_result"
    }
   ],
   "source": [
    "oss.sort_values(by=['ano','Pago'], ascending=False).head(10)"
   ]
  },
  {
   "cell_type": "code",
   "execution_count": null,
   "metadata": {},
   "outputs": [],
   "source": []
  },
  {
   "cell_type": "code",
   "execution_count": 125,
   "metadata": {},
   "outputs": [],
   "source": []
  },
  {
   "cell_type": "code",
   "execution_count": 126,
   "metadata": {},
   "outputs": [],
   "source": []
  },
  {
   "cell_type": "code",
   "execution_count": 186,
   "metadata": {},
   "outputs": [],
   "source": []
  },
  {
   "cell_type": "code",
   "execution_count": 151,
   "metadata": {},
   "outputs": [],
   "source": []
  },
  {
   "cell_type": "code",
   "execution_count": 170,
   "metadata": {},
   "outputs": [],
   "source": []
  },
  {
   "cell_type": "code",
   "execution_count": 171,
   "metadata": {},
   "outputs": [],
   "source": []
  },
  {
   "cell_type": "code",
   "execution_count": 173,
   "metadata": {},
   "outputs": [],
   "source": []
  },
  {
   "cell_type": "code",
   "execution_count": 180,
   "metadata": {},
   "outputs": [],
   "source": []
  },
  {
   "cell_type": "code",
   "execution_count": null,
   "metadata": {},
   "outputs": [],
   "source": []
  },
  {
   "cell_type": "code",
   "execution_count": null,
   "metadata": {},
   "outputs": [],
   "source": []
  },
  {
   "cell_type": "code",
   "execution_count": null,
   "metadata": {},
   "outputs": [],
   "source": []
  },
  {
   "cell_type": "code",
   "execution_count": null,
   "metadata": {},
   "outputs": [],
   "source": []
  },
  {
   "cell_type": "code",
   "execution_count": null,
   "metadata": {},
   "outputs": [],
   "source": []
  },
  {
   "cell_type": "code",
   "execution_count": null,
   "metadata": {},
   "outputs": [],
   "source": []
  },
  {
   "cell_type": "code",
   "execution_count": null,
   "metadata": {},
   "outputs": [],
   "source": []
  },
  {
   "cell_type": "code",
   "execution_count": null,
   "metadata": {},
   "outputs": [],
   "source": []
  },
  {
   "cell_type": "code",
   "execution_count": null,
   "metadata": {},
   "outputs": [],
   "source": []
  },
  {
   "cell_type": "code",
   "execution_count": null,
   "metadata": {},
   "outputs": [],
   "source": []
  },
  {
   "cell_type": "code",
   "execution_count": null,
   "metadata": {},
   "outputs": [],
   "source": []
  },
  {
   "cell_type": "code",
   "execution_count": null,
   "metadata": {},
   "outputs": [],
   "source": []
  },
  {
   "cell_type": "code",
   "execution_count": null,
   "metadata": {},
   "outputs": [],
   "source": []
  }
 ],
 "metadata": {
  "kernelspec": {
   "display_name": "Python 3",
   "language": "python",
   "name": "python3"
  },
  "language_info": {
   "codemirror_mode": {
    "name": "ipython",
    "version": 3
   },
   "file_extension": ".py",
   "mimetype": "text/x-python",
   "name": "python",
   "nbconvert_exporter": "python",
   "pygments_lexer": "ipython3",
   "version": "3.7.6"
  }
 },
 "nbformat": 4,
 "nbformat_minor": 4
}
