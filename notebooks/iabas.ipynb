{
 "cells": [
  {
   "cell_type": "code",
   "execution_count": 145,
   "metadata": {},
   "outputs": [],
   "source": [
    "%reload_ext autoreload\n",
    "%autoreload 2\n",
    "\n",
    "import warnings\n",
    "warnings.filterwarnings('ignore')\n",
    "\n",
    "import pandas as pd\n",
    "import geopandas as gpd\n",
    "import numpy as np\n",
    "\n",
    "pd.options.display.max_columns = 999\n",
    "pd.options.display.max_rows = 1999\n",
    "pd.options.display.max_colwidth = 200\n",
    "\n",
    "import yaml\n",
    "\n",
    "from paths import *\n",
    "from scripts import manipulation\n",
    "from scripts import io\n",
    "\n",
    "import plotly.graph_objs as go\n",
    "from plotly.offline import download_plotlyjs, init_notebook_mode, plot, iplot, offline\n",
    "from scripts import vis_layout\n",
    "\n",
    "from os import listdir\n",
    "import glob\n",
    "\n",
    "import datetime\n",
    "today = datetime.datetime.today().strftime('%Y_%m_%d')\n",
    "\n",
    "import requests"
   ]
  },
  {
   "cell_type": "code",
   "execution_count": 159,
   "metadata": {},
   "outputs": [],
   "source": [
    "df = pd.read_excel('http://iabas.org.br/wp-content/uploads/2020/06/ctrcovid19.xls')\n",
    "\n",
    "df.to_excel(f'../data/oss_individuais/iabas/{today}_iabas.xlsx', index=False)"
   ]
  },
  {
   "cell_type": "code",
   "execution_count": 160,
   "metadata": {},
   "outputs": [],
   "source": [
    "df.columns = manipulation.normalize_cols(df.columns)\n",
    "df['cnpj'] = df['cnpj'].str.replace('.','').str.replace('-','').str.replace('/','')\n",
    "\n",
    "df['valor'] = df['valor'].astype(str).apply(lambda x: x.replace('R$ 1.934,942,80','1934942.80') if 'R$ 1.934,942,80' in x else x).astype(float)"
   ]
  },
  {
   "cell_type": "code",
   "execution_count": 161,
   "metadata": {},
   "outputs": [
    {
     "data": {
      "text/html": [
       "<div>\n",
       "<style scoped>\n",
       "    .dataframe tbody tr th:only-of-type {\n",
       "        vertical-align: middle;\n",
       "    }\n",
       "\n",
       "    .dataframe tbody tr th {\n",
       "        vertical-align: top;\n",
       "    }\n",
       "\n",
       "    .dataframe thead th {\n",
       "        text-align: right;\n",
       "    }\n",
       "</style>\n",
       "<table border=\"1\" class=\"dataframe\">\n",
       "  <thead>\n",
       "    <tr style=\"text-align: right;\">\n",
       "      <th></th>\n",
       "      <th>forma_de_contratacao</th>\n",
       "      <th>data_da_contratacao</th>\n",
       "      <th>empresa_contratada</th>\n",
       "      <th>objeto_do_contrato</th>\n",
       "      <th>periodo_da_contratacao</th>\n",
       "      <th>cnpj</th>\n",
       "      <th>valor</th>\n",
       "    </tr>\n",
       "  </thead>\n",
       "  <tbody>\n",
       "    <tr>\n",
       "      <th>17</th>\n",
       "      <td>EMERGENCIAL</td>\n",
       "      <td>2020-04-03</td>\n",
       "      <td>SAÚDE COMPLETA PRONTO SOCORRO E CLINICA MÉDICA LTDA</td>\n",
       "      <td>Contrato emergencial de prestação de serviço médico  para atender as necessidades do Hospital Municipal Campanha – Anhembi SP (HMCamp Anhembi)</td>\n",
       "      <td>O prazo de vigência do contrato será pelo prazo de duração do Hospital de Campanha-Anhembi SP (HMCamp)Anhembi), e se findará após sua desativação.</td>\n",
       "      <td>29284919000136</td>\n",
       "      <td>3673063.52</td>\n",
       "    </tr>\n",
       "    <tr>\n",
       "      <th>42</th>\n",
       "      <td>EMERGENCIAL</td>\n",
       "      <td>2020-04-15</td>\n",
       "      <td>SAUDE COMPLETA PRONTO SOCORRO</td>\n",
       "      <td>Contrato emergencial de prestação de serviço médico para atendimento do Hospital Bela Vista</td>\n",
       "      <td>90 (noventa dias)</td>\n",
       "      <td>29284919000136</td>\n",
       "      <td>1934942.80</td>\n",
       "    </tr>\n",
       "    <tr>\n",
       "      <th>69</th>\n",
       "      <td>EMERGENCIAL</td>\n",
       "      <td>2020-05-27</td>\n",
       "      <td>SAUDE COMPLETA PRONTO SOCORRO</td>\n",
       "      <td>Contrato emergencial de prestação de serviço médico para atendimento do Hospital Brasilancia</td>\n",
       "      <td>180 dias ou enquanto durar a pandemia de Covid 19</td>\n",
       "      <td>29284919000136</td>\n",
       "      <td>2459586.50</td>\n",
       "    </tr>\n",
       "  </tbody>\n",
       "</table>\n",
       "</div>"
      ],
      "text/plain": [
       "   forma_de_contratacao data_da_contratacao  \\\n",
       "17          EMERGENCIAL          2020-04-03   \n",
       "42          EMERGENCIAL          2020-04-15   \n",
       "69          EMERGENCIAL          2020-05-27   \n",
       "\n",
       "                                     empresa_contratada  \\\n",
       "17  SAÚDE COMPLETA PRONTO SOCORRO E CLINICA MÉDICA LTDA   \n",
       "42                        SAUDE COMPLETA PRONTO SOCORRO   \n",
       "69                        SAUDE COMPLETA PRONTO SOCORRO   \n",
       "\n",
       "                                                                                                                                objeto_do_contrato  \\\n",
       "17  Contrato emergencial de prestação de serviço médico  para atender as necessidades do Hospital Municipal Campanha – Anhembi SP (HMCamp Anhembi)   \n",
       "42                                                     Contrato emergencial de prestação de serviço médico para atendimento do Hospital Bela Vista   \n",
       "69                                                    Contrato emergencial de prestação de serviço médico para atendimento do Hospital Brasilancia   \n",
       "\n",
       "                                                                                                                                periodo_da_contratacao  \\\n",
       "17  O prazo de vigência do contrato será pelo prazo de duração do Hospital de Campanha-Anhembi SP (HMCamp)Anhembi), e se findará após sua desativação.   \n",
       "42                                                                                                                                   90 (noventa dias)   \n",
       "69                                                                                                   180 dias ou enquanto durar a pandemia de Covid 19   \n",
       "\n",
       "              cnpj       valor  \n",
       "17  29284919000136  3673063.52  \n",
       "42  29284919000136  1934942.80  \n",
       "69  29284919000136  2459586.50  "
      ]
     },
     "execution_count": 161,
     "metadata": {},
     "output_type": "execute_result"
    }
   ],
   "source": [
    "mask = df['cnpj']=='29284919000136'\n",
    "\n",
    "df[mask]"
   ]
  },
  {
   "cell_type": "code",
   "execution_count": null,
   "metadata": {},
   "outputs": [],
   "source": []
  },
  {
   "cell_type": "code",
   "execution_count": null,
   "metadata": {},
   "outputs": [],
   "source": []
  },
  {
   "cell_type": "code",
   "execution_count": null,
   "metadata": {},
   "outputs": [],
   "source": []
  },
  {
   "cell_type": "code",
   "execution_count": null,
   "metadata": {},
   "outputs": [],
   "source": []
  },
  {
   "cell_type": "code",
   "execution_count": null,
   "metadata": {},
   "outputs": [],
   "source": []
  },
  {
   "cell_type": "markdown",
   "metadata": {},
   "source": [
    "Socios"
   ]
  },
  {
   "cell_type": "code",
   "execution_count": 117,
   "metadata": {},
   "outputs": [
    {
     "name": "stdout",
     "output_type": "stream",
     "text": [
      "39  -  https://brasil.io/api/dataset/socios-brasil/socios/data/?cnpj=00331788000119\n",
      "\n",
      "38  -  https://brasil.io/api/dataset/socios-brasil/socios/data/?cnpj=05654916000189\n",
      "\n",
      "37  -  https://brasil.io/api/dataset/socios-brasil/socios/data/?cnpj=06137183000178\n",
      "\n",
      "36  -  https://brasil.io/api/dataset/socios-brasil/socios/data/?cnpj=29227032000106\n",
      "\n",
      "35  -  https://brasil.io/api/dataset/socios-brasil/socios/data/?cnpj=24842754000157\n",
      "\n",
      "34  -  https://brasil.io/api/dataset/socios-brasil/socios/data/?cnpj=22416258000106\n",
      "\n",
      "33  -  https://brasil.io/api/dataset/socios-brasil/socios/data/?cnpj=59519603000173\n",
      "\n",
      "32  -  https://brasil.io/api/dataset/socios-brasil/socios/data/?cnpj=27443614000102\n",
      "\n",
      "31  -  https://brasil.io/api/dataset/socios-brasil/socios/data/?cnpj=29284919000136\n",
      "\n",
      "30  -  https://brasil.io/api/dataset/socios-brasil/socios/data/?cnpj=53689402000101\n",
      "\n",
      "29  -  https://brasil.io/api/dataset/socios-brasil/socios/data/?cnpj=06088486000148\n",
      "\n",
      "28  -  https://brasil.io/api/dataset/socios-brasil/socios/data/?cnpj=30299895000410\n",
      "\n",
      "27  -  https://brasil.io/api/dataset/socios-brasil/socios/data/?cnpj=62931548000102\n",
      "\n",
      "26  -  https://brasil.io/api/dataset/socios-brasil/socios/data/?cnpj=56573728000167\n",
      "\n",
      "25  -  https://brasil.io/api/dataset/socios-brasil/socios/data/?cnpj=11667642000165\n",
      "\n",
      "24  -  https://brasil.io/api/dataset/socios-brasil/socios/data/?cnpj=49340318000100\n",
      "\n",
      "23  -  https://brasil.io/api/dataset/socios-brasil/socios/data/?cnpj=22892801000441\n",
      "\n",
      "22  -  https://brasil.io/api/dataset/socios-brasil/socios/data/?cnpj=24405155000257\n",
      "\n",
      "21  -  https://brasil.io/api/dataset/socios-brasil/socios/data/?cnpj=04091513000106\n",
      "\n",
      "20  -  https://brasil.io/api/dataset/socios-brasil/socios/data/?cnpj=24516372000133\n",
      "\n",
      "19  -  https://brasil.io/api/dataset/socios-brasil/socios/data/?cnpj=07157389000122\n",
      "\n",
      "18  -  https://brasil.io/api/dataset/socios-brasil/socios/data/?cnpj=0822670000147\n",
      "\n",
      "17  -  https://brasil.io/api/dataset/socios-brasil/socios/data/?cnpj=61099008000141\n",
      "\n",
      "16  -  https://brasil.io/api/dataset/socios-brasil/socios/data/?cnpj=66786047000130\n",
      "\n",
      "15  -  https://brasil.io/api/dataset/socios-brasil/socios/data/?cnpj=58763350000190\n",
      "\n",
      "14  -  https://brasil.io/api/dataset/socios-brasil/socios/data/?cnpj=58426628000133\n",
      "\n",
      "13  -  https://brasil.io/api/dataset/socios-brasil/socios/data/?cnpj=00028986004600\n",
      "\n",
      "12  -  https://brasil.io/api/dataset/socios-brasil/socios/data/?cnpj=23396862000180\n",
      "\n",
      "11  -  https://brasil.io/api/dataset/socios-brasil/socios/data/?cnpj=22892801000442\n",
      "\n",
      "10  -  https://brasil.io/api/dataset/socios-brasil/socios/data/?cnpj=00815997000878\n",
      "\n",
      "9  -  https://brasil.io/api/dataset/socios-brasil/socios/data/?cnpj=05970030000144\n",
      "\n",
      "8  -  https://brasil.io/api/dataset/socios-brasil/socios/data/?cnpj=22982317000103\n",
      "\n",
      "7  -  https://brasil.io/api/dataset/socios-brasil/socios/data/?cnpj=55634901000127\n",
      "\n",
      "6  -  https://brasil.io/api/dataset/socios-brasil/socios/data/?cnpj=07995986000126\n",
      "\n",
      "5  -  https://brasil.io/api/dataset/socios-brasil/socios/data/?cnpj=35820448006924\n",
      "\n",
      "4  -  https://brasil.io/api/dataset/socios-brasil/socios/data/?cnpj=04192876000138\n",
      "\n",
      "3  -  https://brasil.io/api/dataset/socios-brasil/socios/data/?cnpj=27927882000191\n",
      "\n",
      "2  -  https://brasil.io/api/dataset/socios-brasil/socios/data/?cnpj=16775020000174\n",
      "\n",
      "1  -  https://brasil.io/api/dataset/socios-brasil/socios/data/?cnpj=02282271000102\n",
      "\n"
     ]
    }
   ],
   "source": [
    "df_final = pd.DataFrame()\n",
    "ne = df['cnpj'].unique().tolist()\n",
    "\n",
    "while ne!=[]:\n",
    "    for cnpj in ne:\n",
    "        url = f'https://brasil.io/api/dataset/socios-brasil/socios/data/?cnpj={cnpj}'\n",
    "    \n",
    "        r = requests.get(url)\n",
    "\n",
    "        if r.status_code != 200:\n",
    "            print(len(ne),' - ',f'{cnpj} nao encontrado')\n",
    "        else:\n",
    "            print(len(ne),' - ',url)\n",
    "            j = r.json()\n",
    "            dd = pd.DataFrame.from_dict(j['results'])\n",
    "\n",
    "\n",
    "            df_final = pd.concat([df_final, dd], axis=0)\n",
    "\n",
    "            ne.remove(cnpj)\n",
    "            print()"
   ]
  },
  {
   "cell_type": "code",
   "execution_count": 116,
   "metadata": {},
   "outputs": [],
   "source": [
    "df_final.to_excel(f'../data/oss_individuais/iabas/{today}_socios_empresas.xlsx', index=False)"
   ]
  },
  {
   "cell_type": "code",
   "execution_count": null,
   "metadata": {},
   "outputs": [],
   "source": []
  },
  {
   "cell_type": "code",
   "execution_count": null,
   "metadata": {},
   "outputs": [],
   "source": []
  },
  {
   "cell_type": "code",
   "execution_count": null,
   "metadata": {},
   "outputs": [],
   "source": []
  },
  {
   "cell_type": "code",
   "execution_count": null,
   "metadata": {},
   "outputs": [],
   "source": []
  },
  {
   "cell_type": "code",
   "execution_count": null,
   "metadata": {},
   "outputs": [],
   "source": []
  },
  {
   "cell_type": "code",
   "execution_count": null,
   "metadata": {},
   "outputs": [],
   "source": []
  },
  {
   "cell_type": "code",
   "execution_count": null,
   "metadata": {},
   "outputs": [],
   "source": []
  },
  {
   "cell_type": "code",
   "execution_count": null,
   "metadata": {},
   "outputs": [],
   "source": []
  },
  {
   "cell_type": "code",
   "execution_count": null,
   "metadata": {},
   "outputs": [],
   "source": []
  },
  {
   "cell_type": "code",
   "execution_count": null,
   "metadata": {},
   "outputs": [],
   "source": []
  }
 ],
 "metadata": {
  "kernelspec": {
   "display_name": "Python 3",
   "language": "python",
   "name": "python3"
  },
  "language_info": {
   "codemirror_mode": {
    "name": "ipython",
    "version": 3
   },
   "file_extension": ".py",
   "mimetype": "text/x-python",
   "name": "python",
   "nbconvert_exporter": "python",
   "pygments_lexer": "ipython3",
   "version": "3.7.6"
  }
 },
 "nbformat": 4,
 "nbformat_minor": 4
}
